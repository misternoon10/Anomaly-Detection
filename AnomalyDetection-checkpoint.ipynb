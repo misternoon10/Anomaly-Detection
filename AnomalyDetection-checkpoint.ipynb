{
 "cells": [
  {
   "cell_type": "markdown",
   "id": "af1eb369-2fc6-40fd-b407-08a2722c2933",
   "metadata": {},
   "source": [
    "# Anamoly detection"
   ]
  },
  {
   "cell_type": "code",
   "execution_count": null,
   "id": "761f6a8e-f8e9-4bb6-8d74-f85148a67797",
   "metadata": {},
   "outputs": [],
   "source": [
    "import pandas as pd\n",
    "import numpy as np\n",
    "import seaborn as sns\n",
    "import matplotlib.pyplot as plt\n",
    "from sklearn.model_selection import train_test_split\n",
    "from sklearn.ensemble import IsolationForest\n",
    "from sklearn.metrics import confusion_matrix, classification_report, accuracy_score\n",
    "\n",
    "df = pd.read_csv(\"C:/Users/Datasets/concatCICFlow.csv\")\n",
    "df = df.drop(['Flow ID', 'Src IP','Dst IP', 'Timestamp'], axis=1)\n",
    "df.replace([np.inf, -np.inf], np.nan, inplace=True)\n",
    "df.fillna(0, inplace=True)\n",
    "\n",
    "X = df.drop('Label', axis=1)\n",
    "y = df['Label']\n",
    "X_train, X_test, y_train, y_test = train_test_split(X, y, test_size=0.3, random_state=42)\n",
    "\n",
    "iso_forest = IsolationForest(n_estimators=100, contamination='auto', random_state=42)\n",
    "iso_forest.fit(X_train)\n",
    "\n",
    "y_pred = iso_forest.predict(X_test)\n",
    "y_pred = [1 if pred == -1 else 0 for pred in y_pred]\n",
    "\n",
    "# Calculate the number of anomalies in the test set\n",
    "n_anomalies = (y_test == 1).sum()\n",
    "print(f\"Number of anomalies in the test set: {n_anomalies}\")\n",
    "\n",
    "# Calculate the number of anomalies detected by the Isolation Forest model\n",
    "n_detected_anomalies = (y_pred == 1).sum()\n",
    "print(f\"Number of anomalies detected by the Isolation Forest: {n_detected_anomalies}\")\n",
    "\n",
    "print(\"\\nConfusion Matrix:\")\n",
    "cm = confusion_matrix(y_test, y_pred)\n",
    "print(cm)\n",
    "\n",
    "print(\"\\nClassification Report:\")\n",
    "print(classification_report(y_test, y_pred))\n",
    "\n",
    "print(\"\\nAccuracy Score:\")\n",
    "print(accuracy_score(y_test, y_pred))\n"
   ]
  }
 ],
 "metadata": {
  "kernelspec": {
   "display_name": "",
   "name": ""
  },
  "language_info": {
   "name": ""
  }
 },
 "nbformat": 4,
 "nbformat_minor": 5
}
